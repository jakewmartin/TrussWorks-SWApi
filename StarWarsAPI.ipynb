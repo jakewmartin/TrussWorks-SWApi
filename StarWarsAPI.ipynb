{
 "cells": [
  {
   "cell_type": "code",
   "execution_count": 170,
   "metadata": {},
   "outputs": [],
   "source": [
    "import requests\n",
    "import json\n",
    "import pandas as pd\n",
    "import math\n",
    "\n",
    "planets = requests.get('https://swapi.dev/api/planets/')\n",
    "jsonPlanets = planets.json()\n",
    "jsonResults = jsonPlanets['results']\n",
    "\n",
    "class jsonAsset:\n",
    "    def convert_json(url):\n",
    "        urlGet = requests.get(url)\n",
    "        jsonConvert = planets.json()\n",
    "        jsonResults = jsonConvert['results']\n",
    "\n",
    "# part of effort to create clickable URL on name\n",
    "# def make_clickable(val):\n",
    "#   return '<a target=\"_blank\" href=\"{}\">{}</a>'.format(val, val)\n",
    "\n",
    "# creates Pandas DataFrame with important data. attempts to clean DataFrame according to requirements\n",
    "def pandasCreate_csv():\n",
    "\n",
    "    #initial create and sort\n",
    "    jsonResults = jsonPlanets['results']\n",
    "    column_names = ['name', 'climate', 'residents', 'terrain', 'population', 'surface_water', 'diameter', 'url']\n",
    "    df = pd.DataFrame(jsonResults, columns = column_names)\n",
    "    df = df.sort_values(by='name', ascending=True)\n",
    "    \n",
    "    # attempt to scrub zeros and non values. had troubles replacing with ?\n",
    "    df = df.fillna(value='?')\n",
    "    df = df.replace({'unknown': 0})\n",
    "    df = df.replace({'NaN' : '?'})\n",
    "    df = df.replace({'[]' : '?'})\n",
    "\n",
    "    #need hyperlink from url to name    \n",
    "    #df = df.style.format({'url': make_clickable})\n",
    "\n",
    "    # attempted calculation for SA water in km^2 (4*pi*((d/2)^2) * SA as percent).\n",
    "    # had issues with the zeroes / unknown in the surface water column\n",
    "    try:\n",
    "        surfaceArea =  (df['surface_water'].astype(float) / 100) * (((df['diameter'].astype(float) / 2) ** 2) * 4 * math.pi)\n",
    "    except:\n",
    "        df['surface_water'] == '?'\n",
    "    df['surface_water'] = surfaceArea\n",
    "\n",
    "    df.to_csv(\"planets.csv\")\n",
    "\n",
    "    # need to drill into json and display names of famous residents\n",
    "\n",
    "    #print (df)\n",
    "    create_index('planets.csv')\n",
    "\n",
    "def create_index(csv): \n",
    "    a = pd.read_csv(csv,index_col=0)\n",
    "\n",
    "    # to save as html file \n",
    "    # named as \"index\" \n",
    "    a.to_html(\"index.html\")\n",
    "\n",
    "    # assign it to a  \n",
    "    # variable (string) \n",
    "    html_file = a.to_html()\n",
    "\n",
    "pandasCreate_csv()\n",
    "\n"
   ]
  }
 ],
 "metadata": {
  "kernelspec": {
   "display_name": "Python 3.9.1 64-bit",
   "language": "python",
   "name": "python3"
  },
  "language_info": {
   "codemirror_mode": {
    "name": "ipython",
    "version": 3
   },
   "file_extension": ".py",
   "mimetype": "text/x-python",
   "name": "python",
   "nbconvert_exporter": "python",
   "pygments_lexer": "ipython3",
   "version": "3.9.1"
  },
  "orig_nbformat": 4,
  "vscode": {
   "interpreter": {
    "hash": "2811c7424cef95054819e8d2cf3f95526156ff6679921f5bfc797b71155bd29f"
   }
  }
 },
 "nbformat": 4,
 "nbformat_minor": 2
}
